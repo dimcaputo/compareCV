{
 "cells": [
  {
   "cell_type": "markdown",
   "metadata": {},
   "source": [
    "# Imports"
   ]
  },
  {
   "cell_type": "code",
   "execution_count": 1,
   "metadata": {},
   "outputs": [],
   "source": [
    "from sklearn.experimental import enable_halving_search_cv\n",
    "from sklearn.model_selection import train_test_split, GridSearchCV, HalvingGridSearchCV, HalvingRandomSearchCV, RandomizedSearchCV\n",
    "from sklearn.linear_model import RidgeClassifier, LogisticRegression\n",
    "from sklearn.tree import DecisionTreeClassifier\n",
    "from sklearn.svm import SVC\n",
    "from sklearn.ensemble import RandomForestClassifier, GradientBoostingClassifier\n",
    "import pandas as pd\n",
    "import numpy as np\n",
    "import os\n",
    "\n",
    "from sklearn.pipeline import Pipeline\n",
    "from sklearn.compose import ColumnTransformer\n",
    "from sklearn.preprocessing import StandardScaler, OneHotEncoder\n",
    "from sklearn.metrics import f1_score, recall_score\n",
    "from scipy.stats import loguniform, randint\n",
    "import json\n",
    "import pickle\n",
    "\n",
    "import matplotlib.pyplot as plt"
   ]
  },
  {
   "cell_type": "markdown",
   "metadata": {},
   "source": [
    "# Data cleaning"
   ]
  },
  {
   "cell_type": "markdown",
   "metadata": {},
   "source": [
    "## Visualisation"
   ]
  },
  {
   "cell_type": "code",
   "execution_count": 2,
   "metadata": {},
   "outputs": [],
   "source": [
    "df = pd.read_csv(filepath_or_buffer='healthcare-dataset-stroke-data.csv',\n",
    "                 true_values=['Yes'],\n",
    "                 false_values=['No'],\n",
    "                 na_values=['N/A', 'Unknown'],\n",
    "                 ).drop('id', axis=1)"
   ]
  },
  {
   "cell_type": "code",
   "execution_count": 3,
   "metadata": {},
   "outputs": [
    {
     "data": {
      "text/html": [
       "<div>\n",
       "<style scoped>\n",
       "    .dataframe tbody tr th:only-of-type {\n",
       "        vertical-align: middle;\n",
       "    }\n",
       "\n",
       "    .dataframe tbody tr th {\n",
       "        vertical-align: top;\n",
       "    }\n",
       "\n",
       "    .dataframe thead th {\n",
       "        text-align: right;\n",
       "    }\n",
       "</style>\n",
       "<table border=\"1\" class=\"dataframe\">\n",
       "  <thead>\n",
       "    <tr style=\"text-align: right;\">\n",
       "      <th></th>\n",
       "      <th>gender</th>\n",
       "      <th>age</th>\n",
       "      <th>hypertension</th>\n",
       "      <th>heart_disease</th>\n",
       "      <th>ever_married</th>\n",
       "      <th>work_type</th>\n",
       "      <th>Residence_type</th>\n",
       "      <th>avg_glucose_level</th>\n",
       "      <th>bmi</th>\n",
       "      <th>smoking_status</th>\n",
       "      <th>stroke</th>\n",
       "    </tr>\n",
       "  </thead>\n",
       "  <tbody>\n",
       "    <tr>\n",
       "      <th>0</th>\n",
       "      <td>Male</td>\n",
       "      <td>67.0</td>\n",
       "      <td>0</td>\n",
       "      <td>1</td>\n",
       "      <td>True</td>\n",
       "      <td>Private</td>\n",
       "      <td>Urban</td>\n",
       "      <td>228.69</td>\n",
       "      <td>36.6</td>\n",
       "      <td>formerly smoked</td>\n",
       "      <td>1</td>\n",
       "    </tr>\n",
       "    <tr>\n",
       "      <th>1</th>\n",
       "      <td>Female</td>\n",
       "      <td>61.0</td>\n",
       "      <td>0</td>\n",
       "      <td>0</td>\n",
       "      <td>True</td>\n",
       "      <td>Self-employed</td>\n",
       "      <td>Rural</td>\n",
       "      <td>202.21</td>\n",
       "      <td>NaN</td>\n",
       "      <td>never smoked</td>\n",
       "      <td>1</td>\n",
       "    </tr>\n",
       "    <tr>\n",
       "      <th>2</th>\n",
       "      <td>Male</td>\n",
       "      <td>80.0</td>\n",
       "      <td>0</td>\n",
       "      <td>1</td>\n",
       "      <td>True</td>\n",
       "      <td>Private</td>\n",
       "      <td>Rural</td>\n",
       "      <td>105.92</td>\n",
       "      <td>32.5</td>\n",
       "      <td>never smoked</td>\n",
       "      <td>1</td>\n",
       "    </tr>\n",
       "    <tr>\n",
       "      <th>3</th>\n",
       "      <td>Female</td>\n",
       "      <td>49.0</td>\n",
       "      <td>0</td>\n",
       "      <td>0</td>\n",
       "      <td>True</td>\n",
       "      <td>Private</td>\n",
       "      <td>Urban</td>\n",
       "      <td>171.23</td>\n",
       "      <td>34.4</td>\n",
       "      <td>smokes</td>\n",
       "      <td>1</td>\n",
       "    </tr>\n",
       "    <tr>\n",
       "      <th>4</th>\n",
       "      <td>Female</td>\n",
       "      <td>79.0</td>\n",
       "      <td>1</td>\n",
       "      <td>0</td>\n",
       "      <td>True</td>\n",
       "      <td>Self-employed</td>\n",
       "      <td>Rural</td>\n",
       "      <td>174.12</td>\n",
       "      <td>24.0</td>\n",
       "      <td>never smoked</td>\n",
       "      <td>1</td>\n",
       "    </tr>\n",
       "  </tbody>\n",
       "</table>\n",
       "</div>"
      ],
      "text/plain": [
       "   gender   age  hypertension  heart_disease  ever_married      work_type  \\\n",
       "0    Male  67.0             0              1          True        Private   \n",
       "1  Female  61.0             0              0          True  Self-employed   \n",
       "2    Male  80.0             0              1          True        Private   \n",
       "3  Female  49.0             0              0          True        Private   \n",
       "4  Female  79.0             1              0          True  Self-employed   \n",
       "\n",
       "  Residence_type  avg_glucose_level   bmi   smoking_status  stroke  \n",
       "0          Urban             228.69  36.6  formerly smoked       1  \n",
       "1          Rural             202.21   NaN     never smoked       1  \n",
       "2          Rural             105.92  32.5     never smoked       1  \n",
       "3          Urban             171.23  34.4           smokes       1  \n",
       "4          Rural             174.12  24.0     never smoked       1  "
      ]
     },
     "execution_count": 3,
     "metadata": {},
     "output_type": "execute_result"
    }
   ],
   "source": [
    "df.head()"
   ]
  },
  {
   "cell_type": "code",
   "execution_count": 4,
   "metadata": {},
   "outputs": [
    {
     "name": "stdout",
     "output_type": "stream",
     "text": [
      "<class 'pandas.core.frame.DataFrame'>\n",
      "RangeIndex: 5110 entries, 0 to 5109\n",
      "Data columns (total 11 columns):\n",
      " #   Column             Non-Null Count  Dtype  \n",
      "---  ------             --------------  -----  \n",
      " 0   gender             5110 non-null   object \n",
      " 1   age                5110 non-null   float64\n",
      " 2   hypertension       5110 non-null   int64  \n",
      " 3   heart_disease      5110 non-null   int64  \n",
      " 4   ever_married       5110 non-null   bool   \n",
      " 5   work_type          5110 non-null   object \n",
      " 6   Residence_type     5110 non-null   object \n",
      " 7   avg_glucose_level  5110 non-null   float64\n",
      " 8   bmi                4909 non-null   float64\n",
      " 9   smoking_status     3566 non-null   object \n",
      " 10  stroke             5110 non-null   int64  \n",
      "dtypes: bool(1), float64(3), int64(3), object(4)\n",
      "memory usage: 404.3+ KB\n"
     ]
    }
   ],
   "source": [
    "df.info()"
   ]
  },
  {
   "cell_type": "code",
   "execution_count": 5,
   "metadata": {},
   "outputs": [],
   "source": [
    "df = df.dropna(how='any', axis=0)"
   ]
  },
  {
   "cell_type": "code",
   "execution_count": 6,
   "metadata": {},
   "outputs": [
    {
     "name": "stdout",
     "output_type": "stream",
     "text": [
      "<class 'pandas.core.frame.DataFrame'>\n",
      "Index: 3426 entries, 0 to 5108\n",
      "Data columns (total 11 columns):\n",
      " #   Column             Non-Null Count  Dtype  \n",
      "---  ------             --------------  -----  \n",
      " 0   gender             3426 non-null   object \n",
      " 1   age                3426 non-null   float64\n",
      " 2   hypertension       3426 non-null   int64  \n",
      " 3   heart_disease      3426 non-null   int64  \n",
      " 4   ever_married       3426 non-null   bool   \n",
      " 5   work_type          3426 non-null   object \n",
      " 6   Residence_type     3426 non-null   object \n",
      " 7   avg_glucose_level  3426 non-null   float64\n",
      " 8   bmi                3426 non-null   float64\n",
      " 9   smoking_status     3426 non-null   object \n",
      " 10  stroke             3426 non-null   int64  \n",
      "dtypes: bool(1), float64(3), int64(3), object(4)\n",
      "memory usage: 297.8+ KB\n"
     ]
    }
   ],
   "source": [
    "df.info()"
   ]
  },
  {
   "cell_type": "code",
   "execution_count": 7,
   "metadata": {},
   "outputs": [
    {
     "data": {
      "text/plain": [
       "array([[<Axes: title={'center': 'age'}>,\n",
       "        <Axes: title={'center': 'hypertension'}>],\n",
       "       [<Axes: title={'center': 'heart_disease'}>,\n",
       "        <Axes: title={'center': 'avg_glucose_level'}>],\n",
       "       [<Axes: title={'center': 'bmi'}>,\n",
       "        <Axes: title={'center': 'stroke'}>]], dtype=object)"
      ]
     },
     "execution_count": 7,
     "metadata": {},
     "output_type": "execute_result"
    },
    {
     "data": {
      "image/png": "[encoded data removed]",
      "text/plain": [
       "<Figure size 640x480 with 6 Axes>"
      ]
     },
     "metadata": {},
     "output_type": "display_data"
    }
   ],
   "source": [
    "df.hist()"
   ]
  },
  {
   "cell_type": "code",
   "execution_count": 8,
   "metadata": {},
   "outputs": [],
   "source": [
    "numerical = [col for col in df.columns if df[col].dtype=='float64' and col !='stroke']\n",
    "categorical = [col for col in df.columns if (df[col].dtype==object or df[col].dtype=='int64' or df[col].dtype==bool) and col !='stroke']"
   ]
  },
  {
   "cell_type": "code",
   "execution_count": 9,
   "metadata": {},
   "outputs": [
    {
     "data": {
      "text/plain": [
       "['age', 'avg_glucose_level', 'bmi']"
      ]
     },
     "execution_count": 9,
     "metadata": {},
     "output_type": "execute_result"
    }
   ],
   "source": [
    "numerical"
   ]
  },
  {
   "cell_type": "code",
   "execution_count": 10,
   "metadata": {},
   "outputs": [
    {
     "data": {
      "text/plain": [
       "['gender',\n",
       " 'hypertension',\n",
       " 'heart_disease',\n",
       " 'ever_married',\n",
       " 'work_type',\n",
       " 'Residence_type',\n",
       " 'smoking_status']"
      ]
     },
     "execution_count": 10,
     "metadata": {},
     "output_type": "execute_result"
    }
   ],
   "source": [
    "categorical"
   ]
  },
  {
   "cell_type": "markdown",
   "metadata": {},
   "source": [
    "## Splitting"
   ]
  },
  {
   "cell_type": "code",
   "execution_count": 11,
   "metadata": {},
   "outputs": [],
   "source": [
    "X = df.drop('stroke', axis=1)\n",
    "y = df['stroke']"
   ]
  },
  {
   "cell_type": "code",
   "execution_count": 12,
   "metadata": {},
   "outputs": [
    {
     "data": {
      "text/plain": [
       "stroke\n",
       "0    3246\n",
       "1     180\n",
       "Name: count, dtype: int64"
      ]
     },
     "execution_count": 12,
     "metadata": {},
     "output_type": "execute_result"
    }
   ],
   "source": [
    "y.value_counts()"
   ]
  },
  {
   "cell_type": "code",
   "execution_count": 13,
   "metadata": {},
   "outputs": [],
   "source": [
    "X_train, X_test, y_train, y_test = train_test_split(X, y, stratify=y, random_state=38)"
   ]
  },
  {
   "cell_type": "markdown",
   "metadata": {},
   "source": [
    "## Preprocessing"
   ]
  },
  {
   "cell_type": "code",
   "execution_count": 14,
   "metadata": {},
   "outputs": [],
   "source": [
    "col_tr = ColumnTransformer([\n",
    "    ['num', StandardScaler(), numerical],\n",
    "    ['cat', OneHotEncoder(handle_unknown='ignore', sparse_output=False, drop='if_binary').set_output(transform='pandas'), categorical]\n",
    "])"
   ]
  },
  {
   "cell_type": "code",
   "execution_count": 15,
   "metadata": {},
   "outputs": [],
   "source": [
    "X_train = col_tr.fit_transform(X_train)\n",
    "X_test = col_tr.transform(X_test)"
   ]
  },
  {
   "cell_type": "markdown",
   "metadata": {},
   "source": [
    "# Rapid test of models"
   ]
  },
  {
   "cell_type": "code",
   "execution_count": 16,
   "metadata": {},
   "outputs": [],
   "source": [
    "models = [LogisticRegression(), RidgeClassifier(), DecisionTreeClassifier(), RandomForestClassifier(), GradientBoostingClassifier(), SVC()]"
   ]
  },
  {
   "cell_type": "code",
   "execution_count": 17,
   "metadata": {},
   "outputs": [],
   "source": [
    "result_rapid = {}"
   ]
  },
  {
   "cell_type": "code",
   "execution_count": 18,
   "metadata": {},
   "outputs": [
    {
     "name": "stdout",
     "output_type": "stream",
     "text": [
      "Studying model LogisticRegression() ...\n",
      "Results saved in dict.\n",
      "Studying model RidgeClassifier() ...\n",
      "Results saved in dict.\n",
      "Studying model DecisionTreeClassifier() ...\n",
      "Results saved in dict.\n",
      "Studying model RandomForestClassifier() ...\n",
      "Results saved in dict.\n",
      "Studying model GradientBoostingClassifier() ...\n",
      "Results saved in dict.\n",
      "Studying model SVC() ...\n",
      "Results saved in dict.\n"
     ]
    }
   ],
   "source": [
    "for model in models:\n",
    "    print(f'Studying model {model} ...')\n",
    "    model.fit(X_train, y_train)\n",
    "    y_pred = model.predict(X_test)\n",
    "    try:\n",
    "        result_rapid[str(model)] = (f1_score(y_test, y_pred), recall_score(y_test, y_pred))\n",
    "        print('Results saved in dict.')\n",
    "    except ValueError as e:\n",
    "        print(f'There was a ValueError:\\n{e}\\nThe predicted values were stored instead of the scores.')\n",
    "        result_rapid[str(model)] = y_pred\n",
    "    "
   ]
  },
  {
   "cell_type": "code",
   "execution_count": 19,
   "metadata": {},
   "outputs": [
    {
     "name": "stdout",
     "output_type": "stream",
     "text": [
      "The model LogisticRegression() gave the following results:\n",
      "F1 score: 0.04\n",
      "Recall: 0.02\n",
      "The model RidgeClassifier() gave the following results:\n",
      "F1 score: 0.00\n",
      "Recall: 0.00\n",
      "The model DecisionTreeClassifier() gave the following results:\n",
      "F1 score: 0.15\n",
      "Recall: 0.16\n",
      "The model RandomForestClassifier() gave the following results:\n",
      "F1 score: 0.08\n",
      "Recall: 0.04\n",
      "The model GradientBoostingClassifier() gave the following results:\n",
      "F1 score: 0.04\n",
      "Recall: 0.02\n",
      "The model SVC() gave the following results:\n",
      "F1 score: 0.00\n",
      "Recall: 0.00\n"
     ]
    }
   ],
   "source": [
    "for k,v in result_rapid.items():\n",
    "    if type(v) != np.array:\n",
    "        print(f'The model {k} gave the following results:')\n",
    "        print(f'F1 score: {v[0]:.2f}')\n",
    "        print(f'Recall: {v[1]:.2f}')"
   ]
  },
  {
   "cell_type": "markdown",
   "metadata": {},
   "source": [
    "# Random Forest Classifier"
   ]
  },
  {
   "cell_type": "code",
   "execution_count": 42,
   "metadata": {},
   "outputs": [],
   "source": [
    "scoring = 'f1'"
   ]
  },
  {
   "cell_type": "markdown",
   "metadata": {},
   "source": [
    "## Using GridSearchCV"
   ]
  },
  {
   "cell_type": "code",
   "execution_count": 43,
   "metadata": {},
   "outputs": [],
   "source": [
    "forestclf = RandomForestClassifier(random_state=38, class_weight='balanced')"
   ]
  },
  {
   "cell_type": "code",
   "execution_count": 44,
   "metadata": {},
   "outputs": [],
   "source": [
    "param_grid1 = {\n",
    "    'n_estimators':[10,1000],\n",
    "    'max_depth':[3,20],\n",
    "    'min_samples_split':[2,4],\n",
    "    'min_samples_leaf':[1,3]\n",
    "}\n",
    "\n",
    "param_grid2 = {\n",
    "    'n_estimators':[10,100,1000],\n",
    "    'max_depth':[3,5,20],\n",
    "    'min_samples_split':[2,3],\n",
    "    'min_samples_leaf':[1,3]\n",
    "}\n",
    "\n",
    "param_grid3 = {\n",
    "    'n_estimators':[10,100,500,1000],\n",
    "    'max_depth':[3,5,10,20],\n",
    "    'min_samples_split':[2,3],\n",
    "    'min_samples_leaf':[1,3]\n",
    "}\n",
    "\n",
    "param_grid4 = {\n",
    "    'n_estimators':[10,100,500,1000],\n",
    "    'max_depth':[3,5,10,15,20],\n",
    "    'min_samples_split':[2,3],\n",
    "    'min_samples_leaf':[1,2,3]\n",
    "}\n"
   ]
  },
  {
   "cell_type": "code",
   "execution_count": 45,
   "metadata": {},
   "outputs": [
    {
     "name": "stdout",
     "output_type": "stream",
     "text": [
      "Fitting 3 folds for each of 16 candidates, totalling 48 fits\n",
      "Fitting 3 folds for each of 36 candidates, totalling 108 fits\n",
      "Fitting 3 folds for each of 64 candidates, totalling 192 fits\n",
      "Fitting 3 folds for each of 120 candidates, totalling 360 fits\n"
     ]
    }
   ],
   "source": [
    "result_grid = {i:0 for i in range(5)}\n",
    "for i, grid in enumerate([param_grid1,param_grid2,param_grid3,param_grid4]):\n",
    "    grid = GridSearchCV(\n",
    "        estimator=forestclf,\n",
    "        scoring=scoring,\n",
    "        param_grid=grid,\n",
    "        cv=3,\n",
    "        n_jobs=-1,\n",
    "        verbose=1\n",
    "    )\n",
    "    grid.fit(X_train, y_train)\n",
    "    result_grid[i] = pd.DataFrame(grid.cv_results_).sort_values(by='rank_test_score')"
   ]
  },
  {
   "cell_type": "code",
   "execution_count": 46,
   "metadata": {},
   "outputs": [],
   "source": [
    "with open('result_grid.pickle', 'wb') as f:\n",
    "    pickle.dump(result_grid, f)"
   ]
  },
  {
   "cell_type": "code",
   "execution_count": null,
   "metadata": {},
   "outputs": [],
   "source": []
  },
  {
   "cell_type": "markdown",
   "metadata": {},
   "source": [
    "## Using RandomizedSearchCV"
   ]
  },
  {
   "cell_type": "code",
   "execution_count": 47,
   "metadata": {},
   "outputs": [],
   "source": [
    "forestclf = RandomForestClassifier(random_state=38, class_weight='balanced')\n",
    "\n",
    "param_dist = {\n",
    "    'n_estimators':randint(10,1001),\n",
    "    'max_depth': randint(3,21),\n",
    "    'min_samples_split':randint(2,4),\n",
    "    'min_samples_leaf':randint(1,4)\n",
    "}"
   ]
  },
  {
   "cell_type": "code",
   "execution_count": 48,
   "metadata": {},
   "outputs": [],
   "source": [
    "result_rdm = {}"
   ]
  },
  {
   "cell_type": "code",
   "execution_count": 49,
   "metadata": {},
   "outputs": [
    {
     "name": "stdout",
     "output_type": "stream",
     "text": [
      "Fitting 3 folds for each of 16 candidates, totalling 48 fits\n",
      "Fitting 3 folds for each of 36 candidates, totalling 108 fits\n",
      "Fitting 3 folds for each of 64 candidates, totalling 192 fits\n",
      "Fitting 3 folds for each of 120 candidates, totalling 360 fits\n"
     ]
    }
   ],
   "source": [
    "for i,n in enumerate([16,36,64,120]):\n",
    "    rdmcv = RandomizedSearchCV(\n",
    "        estimator=forestclf,\n",
    "        scoring=scoring,\n",
    "        param_distributions=param_dist,\n",
    "        n_iter=n,\n",
    "        return_train_score=True,\n",
    "        cv=3,\n",
    "        n_jobs=-1,\n",
    "        verbose=1,\n",
    "        random_state=38\n",
    "    )\n",
    "    rdmcv.fit(X_train,y_train)\n",
    "    result_rdm[i] = pd.DataFrame(rdmcv.cv_results_).sort_values(by='rank_test_score')\n",
    "\n",
    "with open('result_rdm.pickle', 'wb') as f:\n",
    "    pickle.dump(result_rdm, f)"
   ]
  },
  {
   "cell_type": "markdown",
   "metadata": {},
   "source": [
    "## Using HalvingGridSearchCV"
   ]
  },
  {
   "cell_type": "code",
   "execution_count": 50,
   "metadata": {},
   "outputs": [
    {
     "name": "stdout",
     "output_type": "stream",
     "text": [
      "n_iterations: 2\n",
      "n_required_iterations: 2\n",
      "n_possible_iterations: 2\n",
      "min_resources_: 333\n",
      "max_resources_: 1000\n",
      "aggressive_elimination: False\n",
      "factor: 3\n",
      "----------\n",
      "iter: 0\n",
      "n_candidates: 8\n",
      "n_resources: 333\n",
      "Fitting 3 folds for each of 8 candidates, totalling 24 fits\n",
      "----------\n",
      "iter: 1\n",
      "n_candidates: 3\n",
      "n_resources: 999\n",
      "Fitting 3 folds for each of 3 candidates, totalling 9 fits\n",
      "n_iterations: 3\n",
      "n_required_iterations: 3\n",
      "n_possible_iterations: 3\n",
      "min_resources_: 111\n",
      "max_resources_: 1000\n",
      "aggressive_elimination: False\n",
      "factor: 3\n",
      "----------\n",
      "iter: 0\n",
      "n_candidates: 12\n",
      "n_resources: 111\n",
      "Fitting 3 folds for each of 12 candidates, totalling 36 fits\n",
      "----------\n",
      "iter: 1\n",
      "n_candidates: 4\n",
      "n_resources: 333\n",
      "Fitting 3 folds for each of 4 candidates, totalling 12 fits\n",
      "----------\n",
      "iter: 2\n",
      "n_candidates: 2\n",
      "n_resources: 999\n",
      "Fitting 3 folds for each of 2 candidates, totalling 6 fits\n",
      "n_iterations: 3\n",
      "n_required_iterations: 3\n",
      "n_possible_iterations: 3\n",
      "min_resources_: 111\n",
      "max_resources_: 1000\n",
      "aggressive_elimination: False\n",
      "factor: 3\n",
      "----------\n",
      "iter: 0\n",
      "n_candidates: 16\n",
      "n_resources: 111\n",
      "Fitting 3 folds for each of 16 candidates, totalling 48 fits\n",
      "----------\n",
      "iter: 1\n",
      "n_candidates: 6\n",
      "n_resources: 333\n",
      "Fitting 3 folds for each of 6 candidates, totalling 18 fits\n",
      "----------\n",
      "iter: 2\n",
      "n_candidates: 2\n",
      "n_resources: 999\n",
      "Fitting 3 folds for each of 2 candidates, totalling 6 fits\n",
      "n_iterations: 4\n",
      "n_required_iterations: 4\n",
      "n_possible_iterations: 4\n",
      "min_resources_: 37\n",
      "max_resources_: 1000\n",
      "aggressive_elimination: False\n",
      "factor: 3\n",
      "----------\n",
      "iter: 0\n",
      "n_candidates: 30\n",
      "n_resources: 37\n",
      "Fitting 3 folds for each of 30 candidates, totalling 90 fits\n",
      "----------\n",
      "iter: 1\n",
      "n_candidates: 10\n",
      "n_resources: 111\n",
      "Fitting 3 folds for each of 10 candidates, totalling 30 fits\n",
      "----------\n",
      "iter: 2\n",
      "n_candidates: 4\n",
      "n_resources: 333\n",
      "Fitting 3 folds for each of 4 candidates, totalling 12 fits\n",
      "----------\n",
      "iter: 3\n",
      "n_candidates: 2\n",
      "n_resources: 999\n",
      "Fitting 3 folds for each of 2 candidates, totalling 6 fits\n"
     ]
    }
   ],
   "source": [
    "forestclf = RandomForestClassifier(random_state=38, class_weight='balanced')\n",
    "\n",
    "param_grid1 = {\n",
    "    #'n_estimators':[10,1000],\n",
    "    'max_depth':[3,20],\n",
    "    'min_samples_split':[2,4],\n",
    "    'min_samples_leaf':[1,3]\n",
    "}\n",
    "\n",
    "param_grid2 = {\n",
    "    #'n_estimators':[10,100,1000],\n",
    "    'max_depth':[3,5,20],\n",
    "    'min_samples_split':[2,3],\n",
    "    'min_samples_leaf':[1,3]\n",
    "}\n",
    "\n",
    "param_grid3 = {\n",
    "    #'n_estimators':[10,100,500,1000],\n",
    "    'max_depth':[3,5,10,20],\n",
    "    'min_samples_split':[2,3],\n",
    "    'min_samples_leaf':[1,3]\n",
    "}\n",
    "\n",
    "param_grid4 = {\n",
    "    #'n_estimators':[10,100,500,1000],\n",
    "    'max_depth':[3,5,10,15,20],\n",
    "    'min_samples_split':[2,3],\n",
    "    'min_samples_leaf':[1,2,3]\n",
    "}\n",
    "\n",
    "result_hgrid = {i:0 for i in range(5)}\n",
    "for i, grid in enumerate([param_grid1,param_grid2,param_grid3,param_grid4]):\n",
    "    hgrid = HalvingGridSearchCV(\n",
    "        estimator=forestclf,\n",
    "        param_grid=grid,\n",
    "        resource='n_estimators',\n",
    "        max_resources=1000,\n",
    "        factor=3,\n",
    "        cv=3,\n",
    "        scoring=scoring,\n",
    "        return_train_score=True,\n",
    "        n_jobs=-1,\n",
    "        verbose=1\n",
    "    )\n",
    "    hgrid.fit(X_train, y_train)\n",
    "    result_hgrid[i] = pd.DataFrame(hgrid.cv_results_).sort_values(by='rank_test_score')\n",
    "\n",
    "with open('result_hgrid.pickle', 'wb') as f:\n",
    "    pickle.dump(result_hgrid, f)"
   ]
  },
  {
   "cell_type": "markdown",
   "metadata": {},
   "source": [
    "## Using HalvingRandomSearchCV"
   ]
  },
  {
   "cell_type": "code",
   "execution_count": 51,
   "metadata": {},
   "outputs": [
    {
     "name": "stdout",
     "output_type": "stream",
     "text": [
      "n_iterations: 7\n",
      "n_required_iterations: 7\n",
      "n_possible_iterations: 7\n",
      "min_resources_: 1\n",
      "max_resources_: 1000\n",
      "aggressive_elimination: False\n",
      "factor: 3\n",
      "----------\n",
      "iter: 0\n",
      "n_candidates: 1000\n",
      "n_resources: 1\n",
      "Fitting 3 folds for each of 1000 candidates, totalling 3000 fits\n",
      "----------\n",
      "iter: 1\n",
      "n_candidates: 334\n",
      "n_resources: 3\n",
      "Fitting 3 folds for each of 334 candidates, totalling 1002 fits\n",
      "----------\n",
      "iter: 2\n",
      "n_candidates: 112\n",
      "n_resources: 9\n",
      "Fitting 3 folds for each of 112 candidates, totalling 336 fits\n",
      "----------\n",
      "iter: 3\n",
      "n_candidates: 38\n",
      "n_resources: 27\n",
      "Fitting 3 folds for each of 38 candidates, totalling 114 fits\n",
      "----------\n",
      "iter: 4\n",
      "n_candidates: 13\n",
      "n_resources: 81\n",
      "Fitting 3 folds for each of 13 candidates, totalling 39 fits\n",
      "----------\n",
      "iter: 5\n",
      "n_candidates: 5\n",
      "n_resources: 243\n",
      "Fitting 3 folds for each of 5 candidates, totalling 15 fits\n",
      "----------\n",
      "iter: 6\n",
      "n_candidates: 2\n",
      "n_resources: 729\n",
      "Fitting 3 folds for each of 2 candidates, totalling 6 fits\n"
     ]
    }
   ],
   "source": [
    "forestclf = RandomForestClassifier(random_state=38, class_weight='balanced')\n",
    "\n",
    "param_dist = {\n",
    "    #'n_estimators':randint(1,10000),\n",
    "    'max_depth': randint(3,21),\n",
    "    'min_samples_split':randint(2,4),\n",
    "    'min_samples_leaf':randint(1,4)\n",
    "}\n",
    "\n",
    "hrdm = HalvingRandomSearchCV(\n",
    "    estimator=forestclf,\n",
    "    param_distributions=param_dist,\n",
    "    resource='n_estimators',\n",
    "    max_resources=1000,\n",
    "    factor=3,\n",
    "    cv=3,\n",
    "    scoring=scoring,\n",
    "    return_train_score=True,\n",
    "    n_jobs=-1,\n",
    "    verbose=1\n",
    ")\n",
    "\n",
    "hrdm.fit(X_train, y_train)\n",
    "\n",
    "result_hrdm = {}\n",
    "result_hrdm[0] = pd.DataFrame(hrdm.cv_results_).sort_values(by='rank_test_score')\n",
    "\n",
    "with open('result_hrdm.pickle', 'wb') as f:\n",
    "    pickle.dump(result_hrdm, f)\n"
   ]
  },
  {
   "cell_type": "code",
   "execution_count": 65,
   "metadata": {},
   "outputs": [],
   "source": [
    "def get_plot_values(dict):\n",
    "    plot_steps = {}\n",
    "    plot_time = {}\n",
    "    for k,v in dict.items():\n",
    "        if isinstance(v, pd.DataFrame):\n",
    "            plot_steps[len(v)] = v.iloc[0]['mean_test_score']\n",
    "            v = v.sort_values(by='mean_test_score')\n",
    "            v['cum_time'] = v['mean_fit_time'].cumsum(axis=0)\n",
    "            plot_time[v.iloc[-1]['cum_time']] = v.iloc[-1]['mean_test_score']\n",
    "    return plot_steps, plot_time"
   ]
  },
  {
   "cell_type": "code",
   "execution_count": 66,
   "metadata": {},
   "outputs": [],
   "source": [
    "plot_grid_steps, plot_grid_time = get_plot_values(result_grid)\n",
    "plot_rdm_steps, plot_rdm_time = get_plot_values(result_rdm)\n",
    "plot_hgrid_steps, plot_hgrid_time = get_plot_values(result_hgrid)\n",
    "plot_hrdm_steps, plot_hrdm_time = get_plot_values(result_hrdm)\n"
   ]
  },
  {
   "cell_type": "code",
   "execution_count": 67,
   "metadata": {},
   "outputs": [
    {
     "data": {
      "text/plain": [
       "({16: np.float64(0.24412129720955997),\n",
       "  36: np.float64(0.26055316565257275),\n",
       "  64: np.float64(0.26055316565257275),\n",
       "  120: np.float64(0.263029998324116)},\n",
       " {np.float64(19.445219039916992): np.float64(0.24412129720955997),\n",
       "  np.float64(33.17122912406921): np.float64(0.26055316565257275),\n",
       "  np.float64(66.69872466723122): np.float64(0.26055316565257275),\n",
       "  np.float64(127.5662512779236): np.float64(0.263029998324116)})"
      ]
     },
     "execution_count": 67,
     "metadata": {},
     "output_type": "execute_result"
    }
   ],
   "source": [
    "plot_grid_steps, plot_grid_time"
   ]
  },
  {
   "cell_type": "code",
   "execution_count": 68,
   "metadata": {},
   "outputs": [
    {
     "data": {
      "text/plain": [
       "({16: np.float64(0.2602860309319511),\n",
       "  36: np.float64(0.26607627479714807),\n",
       "  64: np.float64(0.26607627479714807),\n",
       "  120: np.float64(0.27302557983443954)},\n",
       " {np.float64(22.310398658116657): np.float64(0.2602860309319511),\n",
       "  np.float64(52.49314212799073): np.float64(0.26607627479714807),\n",
       "  np.float64(90.15633002916972): np.float64(0.26607627479714807),\n",
       "  np.float64(171.6078433195751): np.float64(0.27302557983443954)})"
      ]
     },
     "execution_count": 68,
     "metadata": {},
     "output_type": "execute_result"
    }
   ],
   "source": [
    "plot_rdm_steps, plot_rdm_time"
   ]
  },
  {
   "cell_type": "code",
   "execution_count": 69,
   "metadata": {},
   "outputs": [
    {
     "data": {
      "text/plain": [
       "({11: np.float64(0.24412129720955997),\n",
       "  18: np.float64(0.26018099547511314),\n",
       "  24: np.float64(0.26018099547511314),\n",
       "  46: np.float64(0.2634550634550635)},\n",
       " {np.float64(13.154180606206257): np.float64(0.24412129720955997),\n",
       "  np.float64(10.226668993632): np.float64(0.26018099547511314),\n",
       "  np.float64(13.455059925715128): np.float64(0.26018099547511314),\n",
       "  np.float64(12.604162136713663): np.float64(0.2634550634550635)})"
      ]
     },
     "execution_count": 69,
     "metadata": {},
     "output_type": "execute_result"
    }
   ],
   "source": [
    "plot_hgrid_steps, plot_hgrid_time"
   ]
  },
  {
   "cell_type": "code",
   "execution_count": 71,
   "metadata": {},
   "outputs": [
    {
     "data": {
      "text/plain": [
       "({1504: np.float64(0.279528911244308)},\n",
       " {np.float64(24.71509885787965): np.float64(0.279528911244308)})"
      ]
     },
     "execution_count": 71,
     "metadata": {},
     "output_type": "execute_result"
    }
   ],
   "source": [
    "plot_hrdm_steps, plot_hrdm_time"
   ]
  },
  {
   "cell_type": "code",
   "execution_count": 62,
   "metadata": {},
   "outputs": [
    {
     "data": {
      "text/html": [
       "<div>\n",
       "<style scoped>\n",
       "    .dataframe tbody tr th:only-of-type {\n",
       "        vertical-align: middle;\n",
       "    }\n",
       "\n",
       "    .dataframe tbody tr th {\n",
       "        vertical-align: top;\n",
       "    }\n",
       "\n",
       "    .dataframe thead th {\n",
       "        text-align: right;\n",
       "    }\n",
       "</style>\n",
       "<table border=\"1\" class=\"dataframe\">\n",
       "  <thead>\n",
       "    <tr style=\"text-align: right;\">\n",
       "      <th></th>\n",
       "      <th>iter</th>\n",
       "      <th>n_resources</th>\n",
       "      <th>mean_fit_time</th>\n",
       "      <th>std_fit_time</th>\n",
       "      <th>mean_score_time</th>\n",
       "      <th>std_score_time</th>\n",
       "      <th>param_max_depth</th>\n",
       "      <th>param_min_samples_leaf</th>\n",
       "      <th>param_min_samples_split</th>\n",
       "      <th>param_n_estimators</th>\n",
       "      <th>...</th>\n",
       "      <th>split1_test_score</th>\n",
       "      <th>split2_test_score</th>\n",
       "      <th>mean_test_score</th>\n",
       "      <th>std_test_score</th>\n",
       "      <th>rank_test_score</th>\n",
       "      <th>split0_train_score</th>\n",
       "      <th>split1_train_score</th>\n",
       "      <th>split2_train_score</th>\n",
       "      <th>mean_train_score</th>\n",
       "      <th>std_train_score</th>\n",
       "    </tr>\n",
       "  </thead>\n",
       "  <tbody>\n",
       "    <tr>\n",
       "      <th>1485</th>\n",
       "      <td>4</td>\n",
       "      <td>81</td>\n",
       "      <td>0.211566</td>\n",
       "      <td>0.009493</td>\n",
       "      <td>0.016524</td>\n",
       "      <td>0.004282</td>\n",
       "      <td>6</td>\n",
       "      <td>3</td>\n",
       "      <td>3</td>\n",
       "      <td>81</td>\n",
       "      <td>...</td>\n",
       "      <td>0.301887</td>\n",
       "      <td>0.229008</td>\n",
       "      <td>0.279529</td>\n",
       "      <td>0.035802</td>\n",
       "      <td>1</td>\n",
       "      <td>0.433526</td>\n",
       "      <td>0.515464</td>\n",
       "      <td>0.534296</td>\n",
       "      <td>0.494429</td>\n",
       "      <td>0.043746</td>\n",
       "    </tr>\n",
       "    <tr>\n",
       "      <th>1486</th>\n",
       "      <td>4</td>\n",
       "      <td>81</td>\n",
       "      <td>0.203465</td>\n",
       "      <td>0.006410</td>\n",
       "      <td>0.016875</td>\n",
       "      <td>0.004342</td>\n",
       "      <td>6</td>\n",
       "      <td>3</td>\n",
       "      <td>2</td>\n",
       "      <td>81</td>\n",
       "      <td>...</td>\n",
       "      <td>0.301887</td>\n",
       "      <td>0.229008</td>\n",
       "      <td>0.279529</td>\n",
       "      <td>0.035802</td>\n",
       "      <td>1</td>\n",
       "      <td>0.433526</td>\n",
       "      <td>0.515464</td>\n",
       "      <td>0.534296</td>\n",
       "      <td>0.494429</td>\n",
       "      <td>0.043746</td>\n",
       "    </tr>\n",
       "    <tr>\n",
       "      <th>1487</th>\n",
       "      <td>4</td>\n",
       "      <td>81</td>\n",
       "      <td>0.233268</td>\n",
       "      <td>0.005339</td>\n",
       "      <td>0.017007</td>\n",
       "      <td>0.003789</td>\n",
       "      <td>6</td>\n",
       "      <td>3</td>\n",
       "      <td>3</td>\n",
       "      <td>81</td>\n",
       "      <td>...</td>\n",
       "      <td>0.301887</td>\n",
       "      <td>0.229008</td>\n",
       "      <td>0.279529</td>\n",
       "      <td>0.035802</td>\n",
       "      <td>1</td>\n",
       "      <td>0.433526</td>\n",
       "      <td>0.515464</td>\n",
       "      <td>0.534296</td>\n",
       "      <td>0.494429</td>\n",
       "      <td>0.043746</td>\n",
       "    </tr>\n",
       "    <tr>\n",
       "      <th>1490</th>\n",
       "      <td>4</td>\n",
       "      <td>81</td>\n",
       "      <td>0.211913</td>\n",
       "      <td>0.012695</td>\n",
       "      <td>0.013621</td>\n",
       "      <td>0.000199</td>\n",
       "      <td>6</td>\n",
       "      <td>3</td>\n",
       "      <td>2</td>\n",
       "      <td>81</td>\n",
       "      <td>...</td>\n",
       "      <td>0.301887</td>\n",
       "      <td>0.229008</td>\n",
       "      <td>0.279529</td>\n",
       "      <td>0.035802</td>\n",
       "      <td>1</td>\n",
       "      <td>0.433526</td>\n",
       "      <td>0.515464</td>\n",
       "      <td>0.534296</td>\n",
       "      <td>0.494429</td>\n",
       "      <td>0.043746</td>\n",
       "    </tr>\n",
       "    <tr>\n",
       "      <th>1484</th>\n",
       "      <td>4</td>\n",
       "      <td>81</td>\n",
       "      <td>0.208952</td>\n",
       "      <td>0.013437</td>\n",
       "      <td>0.014489</td>\n",
       "      <td>0.000964</td>\n",
       "      <td>6</td>\n",
       "      <td>3</td>\n",
       "      <td>2</td>\n",
       "      <td>81</td>\n",
       "      <td>...</td>\n",
       "      <td>0.301887</td>\n",
       "      <td>0.229008</td>\n",
       "      <td>0.279529</td>\n",
       "      <td>0.035802</td>\n",
       "      <td>1</td>\n",
       "      <td>0.433526</td>\n",
       "      <td>0.515464</td>\n",
       "      <td>0.534296</td>\n",
       "      <td>0.494429</td>\n",
       "      <td>0.043746</td>\n",
       "    </tr>\n",
       "    <tr>\n",
       "      <th>...</th>\n",
       "      <td>...</td>\n",
       "      <td>...</td>\n",
       "      <td>...</td>\n",
       "      <td>...</td>\n",
       "      <td>...</td>\n",
       "      <td>...</td>\n",
       "      <td>...</td>\n",
       "      <td>...</td>\n",
       "      <td>...</td>\n",
       "      <td>...</td>\n",
       "      <td>...</td>\n",
       "      <td>...</td>\n",
       "      <td>...</td>\n",
       "      <td>...</td>\n",
       "      <td>...</td>\n",
       "      <td>...</td>\n",
       "      <td>...</td>\n",
       "      <td>...</td>\n",
       "      <td>...</td>\n",
       "      <td>...</td>\n",
       "      <td>...</td>\n",
       "    </tr>\n",
       "    <tr>\n",
       "      <th>106</th>\n",
       "      <td>0</td>\n",
       "      <td>1</td>\n",
       "      <td>0.005725</td>\n",
       "      <td>0.000042</td>\n",
       "      <td>0.005507</td>\n",
       "      <td>0.002511</td>\n",
       "      <td>14</td>\n",
       "      <td>1</td>\n",
       "      <td>2</td>\n",
       "      <td>1</td>\n",
       "      <td>...</td>\n",
       "      <td>0.078431</td>\n",
       "      <td>0.111111</td>\n",
       "      <td>0.079245</td>\n",
       "      <td>0.025693</td>\n",
       "      <td>1497</td>\n",
       "      <td>0.662921</td>\n",
       "      <td>0.644068</td>\n",
       "      <td>0.628571</td>\n",
       "      <td>0.645187</td>\n",
       "      <td>0.014046</td>\n",
       "    </tr>\n",
       "    <tr>\n",
       "      <th>138</th>\n",
       "      <td>0</td>\n",
       "      <td>1</td>\n",
       "      <td>0.005685</td>\n",
       "      <td>0.000178</td>\n",
       "      <td>0.003649</td>\n",
       "      <td>0.000155</td>\n",
       "      <td>14</td>\n",
       "      <td>1</td>\n",
       "      <td>2</td>\n",
       "      <td>1</td>\n",
       "      <td>...</td>\n",
       "      <td>0.078431</td>\n",
       "      <td>0.111111</td>\n",
       "      <td>0.079245</td>\n",
       "      <td>0.025693</td>\n",
       "      <td>1497</td>\n",
       "      <td>0.662921</td>\n",
       "      <td>0.644068</td>\n",
       "      <td>0.628571</td>\n",
       "      <td>0.645187</td>\n",
       "      <td>0.014046</td>\n",
       "    </tr>\n",
       "    <tr>\n",
       "      <th>400</th>\n",
       "      <td>0</td>\n",
       "      <td>1</td>\n",
       "      <td>0.005441</td>\n",
       "      <td>0.000053</td>\n",
       "      <td>0.003638</td>\n",
       "      <td>0.000051</td>\n",
       "      <td>14</td>\n",
       "      <td>1</td>\n",
       "      <td>2</td>\n",
       "      <td>1</td>\n",
       "      <td>...</td>\n",
       "      <td>0.078431</td>\n",
       "      <td>0.111111</td>\n",
       "      <td>0.079245</td>\n",
       "      <td>0.025693</td>\n",
       "      <td>1497</td>\n",
       "      <td>0.662921</td>\n",
       "      <td>0.644068</td>\n",
       "      <td>0.628571</td>\n",
       "      <td>0.645187</td>\n",
       "      <td>0.014046</td>\n",
       "    </tr>\n",
       "    <tr>\n",
       "      <th>849</th>\n",
       "      <td>0</td>\n",
       "      <td>1</td>\n",
       "      <td>0.005426</td>\n",
       "      <td>0.000058</td>\n",
       "      <td>0.003610</td>\n",
       "      <td>0.000061</td>\n",
       "      <td>14</td>\n",
       "      <td>1</td>\n",
       "      <td>2</td>\n",
       "      <td>1</td>\n",
       "      <td>...</td>\n",
       "      <td>0.078431</td>\n",
       "      <td>0.111111</td>\n",
       "      <td>0.079245</td>\n",
       "      <td>0.025693</td>\n",
       "      <td>1497</td>\n",
       "      <td>0.662921</td>\n",
       "      <td>0.644068</td>\n",
       "      <td>0.628571</td>\n",
       "      <td>0.645187</td>\n",
       "      <td>0.014046</td>\n",
       "    </tr>\n",
       "    <tr>\n",
       "      <th>194</th>\n",
       "      <td>0</td>\n",
       "      <td>1</td>\n",
       "      <td>0.006528</td>\n",
       "      <td>0.000780</td>\n",
       "      <td>0.003751</td>\n",
       "      <td>0.000075</td>\n",
       "      <td>14</td>\n",
       "      <td>1</td>\n",
       "      <td>2</td>\n",
       "      <td>1</td>\n",
       "      <td>...</td>\n",
       "      <td>0.078431</td>\n",
       "      <td>0.111111</td>\n",
       "      <td>0.079245</td>\n",
       "      <td>0.025693</td>\n",
       "      <td>1497</td>\n",
       "      <td>0.662921</td>\n",
       "      <td>0.644068</td>\n",
       "      <td>0.628571</td>\n",
       "      <td>0.645187</td>\n",
       "      <td>0.014046</td>\n",
       "    </tr>\n",
       "  </tbody>\n",
       "</table>\n",
       "<p>1504 rows × 22 columns</p>\n",
       "</div>"
      ],
      "text/plain": [
       "      iter  n_resources  mean_fit_time  std_fit_time  mean_score_time  \\\n",
       "1485     4           81       0.211566      0.009493         0.016524   \n",
       "1486     4           81       0.203465      0.006410         0.016875   \n",
       "1487     4           81       0.233268      0.005339         0.017007   \n",
       "1490     4           81       0.211913      0.012695         0.013621   \n",
       "1484     4           81       0.208952      0.013437         0.014489   \n",
       "...    ...          ...            ...           ...              ...   \n",
       "106      0            1       0.005725      0.000042         0.005507   \n",
       "138      0            1       0.005685      0.000178         0.003649   \n",
       "400      0            1       0.005441      0.000053         0.003638   \n",
       "849      0            1       0.005426      0.000058         0.003610   \n",
       "194      0            1       0.006528      0.000780         0.003751   \n",
       "\n",
       "      std_score_time  param_max_depth  param_min_samples_leaf  \\\n",
       "1485        0.004282                6                       3   \n",
       "1486        0.004342                6                       3   \n",
       "1487        0.003789                6                       3   \n",
       "1490        0.000199                6                       3   \n",
       "1484        0.000964                6                       3   \n",
       "...              ...              ...                     ...   \n",
       "106         0.002511               14                       1   \n",
       "138         0.000155               14                       1   \n",
       "400         0.000051               14                       1   \n",
       "849         0.000061               14                       1   \n",
       "194         0.000075               14                       1   \n",
       "\n",
       "      param_min_samples_split  param_n_estimators  ... split1_test_score  \\\n",
       "1485                        3                  81  ...          0.301887   \n",
       "1486                        2                  81  ...          0.301887   \n",
       "1487                        3                  81  ...          0.301887   \n",
       "1490                        2                  81  ...          0.301887   \n",
       "1484                        2                  81  ...          0.301887   \n",
       "...                       ...                 ...  ...               ...   \n",
       "106                         2                   1  ...          0.078431   \n",
       "138                         2                   1  ...          0.078431   \n",
       "400                         2                   1  ...          0.078431   \n",
       "849                         2                   1  ...          0.078431   \n",
       "194                         2                   1  ...          0.078431   \n",
       "\n",
       "      split2_test_score  mean_test_score  std_test_score  rank_test_score  \\\n",
       "1485           0.229008         0.279529        0.035802                1   \n",
       "1486           0.229008         0.279529        0.035802                1   \n",
       "1487           0.229008         0.279529        0.035802                1   \n",
       "1490           0.229008         0.279529        0.035802                1   \n",
       "1484           0.229008         0.279529        0.035802                1   \n",
       "...                 ...              ...             ...              ...   \n",
       "106            0.111111         0.079245        0.025693             1497   \n",
       "138            0.111111         0.079245        0.025693             1497   \n",
       "400            0.111111         0.079245        0.025693             1497   \n",
       "849            0.111111         0.079245        0.025693             1497   \n",
       "194            0.111111         0.079245        0.025693             1497   \n",
       "\n",
       "      split0_train_score  split1_train_score  split2_train_score  \\\n",
       "1485            0.433526            0.515464            0.534296   \n",
       "1486            0.433526            0.515464            0.534296   \n",
       "1487            0.433526            0.515464            0.534296   \n",
       "1490            0.433526            0.515464            0.534296   \n",
       "1484            0.433526            0.515464            0.534296   \n",
       "...                  ...                 ...                 ...   \n",
       "106             0.662921            0.644068            0.628571   \n",
       "138             0.662921            0.644068            0.628571   \n",
       "400             0.662921            0.644068            0.628571   \n",
       "849             0.662921            0.644068            0.628571   \n",
       "194             0.662921            0.644068            0.628571   \n",
       "\n",
       "      mean_train_score  std_train_score  \n",
       "1485          0.494429         0.043746  \n",
       "1486          0.494429         0.043746  \n",
       "1487          0.494429         0.043746  \n",
       "1490          0.494429         0.043746  \n",
       "1484          0.494429         0.043746  \n",
       "...                ...              ...  \n",
       "106           0.645187         0.014046  \n",
       "138           0.645187         0.014046  \n",
       "400           0.645187         0.014046  \n",
       "849           0.645187         0.014046  \n",
       "194           0.645187         0.014046  \n",
       "\n",
       "[1504 rows x 22 columns]"
      ]
     },
     "execution_count": 62,
     "metadata": {},
     "output_type": "execute_result"
    }
   ],
   "source": [
    "result_hrdm[0]"
   ]
  },
  {
   "cell_type": "markdown",
   "metadata": {},
   "source": [
    "## Plot"
   ]
  },
  {
   "cell_type": "markdown",
   "metadata": {},
   "source": [
    "### Plot by steps"
   ]
  },
  {
   "cell_type": "code",
   "execution_count": 77,
   "metadata": {},
   "outputs": [
    {
     "data": {
      "image/png": "[encoded data removed]",
      "text/plain": [
       "<Figure size 640x480 with 1 Axes>"
      ]
     },
     "metadata": {},
     "output_type": "display_data"
    }
   ],
   "source": [
    "plt.plot(plot_grid_time.keys(), plot_grid_time.values(), label='GridSearchCV')\n",
    "plt.plot(plot_rdm_time.keys(), plot_rdm_time.values(), label='RandomizedSearchCV')\n",
    "plt.plot(plot_hgrid_time.keys(), plot_hgrid_time.values(), label='HalvingGridSearchCV')\n",
    "plt.scatter(plot_hrdm_time.keys(), plot_hrdm_time.values(), c='red', label='HalvingRandomSearchCV',s=12)\n",
    "plt.xlabel('Time (s)')\n",
    "plt.ylabel(f'{scoring} score')\n",
    "plt.legend()\n",
    "plt.show;"
   ]
  },
  {
   "cell_type": "markdown",
   "metadata": {},
   "source": [
    "### Plot by time"
   ]
  },
  {
   "cell_type": "code",
   "execution_count": 59,
   "metadata": {},
   "outputs": [
    {
     "ename": "NameError",
     "evalue": "name 'df_grid' is not defined",
     "output_type": "error",
     "traceback": [
      "\u001b[0;31m---------------------------------------------------------------------------\u001b[0m",
      "\u001b[0;31mNameError\u001b[0m                                 Traceback (most recent call last)",
      "Cell \u001b[0;32mIn[59], line 1\u001b[0m\n\u001b[0;32m----> 1\u001b[0m df_grid \u001b[38;5;241m=\u001b[39m df_grid\u001b[38;5;241m.\u001b[39msort_values(\u001b[38;5;124m'\u001b[39m\u001b[38;5;124mmean_test_score\u001b[39m\u001b[38;5;124m'\u001b[39m)\n\u001b[1;32m      2\u001b[0m df_rdmcv \u001b[38;5;241m=\u001b[39m df_rdmcv\u001b[38;5;241m.\u001b[39msort_values(\u001b[38;5;124m'\u001b[39m\u001b[38;5;124mmean_test_score\u001b[39m\u001b[38;5;124m'\u001b[39m)\n\u001b[1;32m      3\u001b[0m df_hgrid \u001b[38;5;241m=\u001b[39m df_hgrid\u001b[38;5;241m.\u001b[39msort_values(\u001b[38;5;124m'\u001b[39m\u001b[38;5;124mmean_test_score\u001b[39m\u001b[38;5;124m'\u001b[39m)\n",
      "\u001b[0;31mNameError\u001b[0m: name 'df_grid' is not defined"
     ]
    }
   ],
   "source": [
    "df_grid = df_grid.sort_values('mean_test_score')\n",
    "df_rdmcv = df_rdmcv.sort_values('mean_test_score')\n",
    "df_hgrid = df_hgrid.sort_values('mean_test_score')\n",
    "df_hrdm = df_hrdm.sort_values('mean_test_score')\n",
    "\n",
    "\n",
    "\n",
    "df_grid['cumulated_time'] = df_grid['mean_fit_time'].cumsum(axis=0)\n",
    "df_rdmcv['cumulated_time'] = df_rdmcv['mean_fit_time'].cumsum(axis=0)\n",
    "df_hgrid['cumulated_time'] = df_hgrid['mean_fit_time'].cumsum(axis=0)\n",
    "df_hrdm['cumulated_time'] = df_hrdm['mean_fit_time'].cumsum(axis=0)"
   ]
  },
  {
   "cell_type": "code",
   "execution_count": null,
   "metadata": {},
   "outputs": [],
   "source": [
    "plt.plot(df_grid['cumulated_time'], df_grid[['mean_test_score']], label='GridSearchCV')\n",
    "plt.plot(df_rdmcv['cumulated_time'], df_rdmcv[['mean_test_score']], label='RandomizedSearchCV')\n",
    "plt.plot(df_hgrid['cumulated_time'], df_hgrid[['mean_test_score']], label='HalvingGridSearchCV')\n",
    "plt.plot(df_hrdm['cumulated_time'], df_hrdm[['mean_test_score']], label='HalvingRandomSearchCV')\n",
    "plt.xlabel('Time (s)')\n",
    "plt.ylabel(f'{scoring} score')\n",
    "plt.legend()\n",
    "plt.show;"
   ]
  },
  {
   "cell_type": "markdown",
   "metadata": {},
   "source": [
    "# CarbonTracker"
   ]
  },
  {
   "cell_type": "code",
   "execution_count": 41,
   "metadata": {},
   "outputs": [],
   "source": [
    "def perform_search(search_type, \n",
    "                   classifier, \n",
    "                   scoring, \n",
    "                   param_grid, \n",
    "                   n_iter=100, \n",
    "                   cv=5, \n",
    "                   verbose=3, \n",
    "                   resource='n_estimator', \n",
    "                   max_resource=1000,\n",
    "                   factor=3,\n",
    "                   random_state=38,\n",
    "                   carbontracker=False):\n",
    "    \n",
    "    clf = classifier(random_state=38, class_weight='balanced')\n",
    "    \n",
    "    match search_type:\n",
    "        case 'GridSearchCV':\n",
    "            search = GridSearchCV(\n",
    "                estimator=clf,\n",
    "                scoring=scoring,\n",
    "                param_grid=param_grid,\n",
    "                return_train_score=True,\n",
    "                cv=cv,\n",
    "                n_jobs=-1,\n",
    "                verbose=verbose\n",
    "        )\n",
    "    \n",
    "        case 'RandomizedSearchCV':\n",
    "            search = RandomizedSearchCV(\n",
    "                estimator=clf,\n",
    "                scoring=scoring,\n",
    "                param_distributions=param_grid,\n",
    "                n_iter=n_iter,\n",
    "                return_train_score=True,\n",
    "                cv=cv,\n",
    "                n_jobs=-1,\n",
    "                verbose=verbose,\n",
    "                random_state=random_state\n",
    "        )\n",
    "        case 'HalvingGridSearchCV':\n",
    "            search = HalvingGridSearchCV(\n",
    "                estimator=clf,\n",
    "                param_grid=param_grid,\n",
    "                resource=resource,\n",
    "                max_resources=max_resource,\n",
    "                factor=factor,\n",
    "                cv=cv,\n",
    "                scoring=scoring,\n",
    "                return_train_score=True,\n",
    "                n_jobs=-1,\n",
    "                verbose=verbose,\n",
    "                random_state=random_state\n",
    "        )\n",
    "        case 'HalvingRandomSearchCV':\n",
    "            search = HalvingRandomSearchCV(\n",
    "                estimator=clf,\n",
    "                param_distributions=param_grid,\n",
    "                resource=resource,\n",
    "                max_resources=max_resource,\n",
    "                factor=factor,\n",
    "                cv=cv,\n",
    "                scoring=scoring,\n",
    "                return_train_score=True,\n",
    "                n_jobs=-1,\n",
    "                verbose=verbose,\n",
    "                random_state=random_state\n",
    "        )\n",
    "    \n",
    "    if carbontracker=True:\n",
    "    search.fit(X_train, y_train)\n",
    "\n",
    "    df_search = pd.DataFrame(search.cv_results_).sort_values(by='rank_test_score')\n",
    "    \n",
    "    return search, df_search"
   ]
  },
  {
   "cell_type": "code",
   "execution_count": null,
   "metadata": {},
   "outputs": [],
   "source": [
    "perform_search('GridSearchCV', \n",
    "               RandomForestClassifier, \n",
    "               scoring='f1', \n",
    "               param_grid=param_grid)"
   ]
  },
  {
   "cell_type": "code",
   "execution_count": null,
   "metadata": {},
   "outputs": [],
   "source": []
  }
 ],
 "metadata": {
  "kernelspec": {
   "display_name": "ethique",
   "language": "python",
   "name": "python3"
  },
  "language_info": {
   "codemirror_mode": {
    "name": "ipython",
    "version": 3
   },
   "file_extension": ".py",
   "mimetype": "text/x-python",
   "name": "python",
   "nbconvert_exporter": "python",
   "pygments_lexer": "ipython3",
   "version": "3.13.2"
  }
 },
 "nbformat": 4,
 "nbformat_minor": 2
}
